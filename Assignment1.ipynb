{
 "cells": [
  {
   "cell_type": "markdown",
   "id": "bcd00bc6",
   "metadata": {},
   "source": [
    "# multiplication table to 12"
   ]
  },
  {
   "cell_type": "code",
   "execution_count": 34,
   "id": "3308f89e",
   "metadata": {},
   "outputs": [
    {
     "name": "stdout",
     "output_type": "stream",
     "text": [
      "  1   2   3   4   5   6   7   8   9  10  11  12 \n",
      "  2   4   6   8  10  12  14  16  18  20  22  24 \n",
      "  3   6   9  12  15  18  21  24  27  30  33  36 \n",
      "  4   8  12  16  20  24  28  32  36  40  44  48 \n",
      "  5  10  15  20  25  30  35  40  45  50  55  60 \n",
      "  6  12  18  24  30  36  42  48  54  60  66  72 \n",
      "  7  14  21  28  35  42  49  56  63  70  77  84 \n",
      "  8  16  24  32  40  48  56  64  72  80  88  96 \n",
      "  9  18  27  36  45  54  63  72  81  90  99 108 \n",
      " 10  20  30  40  50  60  70  80  90 100 110 120 \n",
      " 11  22  33  44  55  66  77  88  99 110 121 132 \n",
      " 12  24  36  48  60  72  84  96 108 120 132 144 \n"
     ]
    }
   ],
   "source": [
    "table = [[] for _ in range(12)]\n",
    "for i in range(1, 13):\n",
    "    for j in range(1, 13):\n",
    "        table[i-1].append(i * j)\n",
    "\n",
    "max_width = 3\n",
    "\n",
    "for row in table:\n",
    "    for num in row:\n",
    "        print(f\"{num:{max_width}}\", end=\" \")\n",
    "    print()"
   ]
  },
  {
   "cell_type": "markdown",
   "id": "f94b30f8",
   "metadata": {},
   "source": [
    "# check palindrome"
   ]
  },
  {
   "cell_type": "code",
   "execution_count": 35,
   "id": "6c1b1ea2",
   "metadata": {},
   "outputs": [],
   "source": [
    "def palin_check(mystring):\n",
    "    if mystring == \"q\":\n",
    "        return\n",
    "    left = 0\n",
    "    right = len(mystring) -1\n",
    "    \n",
    "    while left <= right:\n",
    "        if mystring[left] != mystring[right]:\n",
    "            return (f\"The string {mystring} is not a palindrome\")\n",
    "            break\n",
    "        left += 1\n",
    "        right -= 1\n",
    "    return (f\"The string {mystring} is a palindrome\")\n",
    "    "
   ]
  },
  {
   "cell_type": "code",
   "execution_count": 37,
   "id": "7a97b41c",
   "metadata": {},
   "outputs": [
    {
     "data": {
      "text/plain": [
       "'The string aab is not a palindrome'"
      ]
     },
     "execution_count": 37,
     "metadata": {},
     "output_type": "execute_result"
    }
   ],
   "source": [
    "palin_check(\"aab\")"
   ]
  },
  {
   "cell_type": "markdown",
   "id": "7bbed1c0",
   "metadata": {},
   "source": [
    "# list concatenation"
   ]
  },
  {
   "cell_type": "code",
   "execution_count": 38,
   "id": "0ccaa6ea",
   "metadata": {},
   "outputs": [],
   "source": [
    "def concat(list1, list2):\n",
    "    if len(list1) != len(list2):\n",
    "        return \"length doesn't match\"\n",
    "    \n",
    "    new = []\n",
    "    left = 0\n",
    "    while left < len(list1):\n",
    "        new.append(list1[left])\n",
    "        new.append(list2[left])\n",
    "        left += 1\n",
    "    return new\n",
    "        "
   ]
  },
  {
   "cell_type": "code",
   "execution_count": 41,
   "id": "e196ca1b",
   "metadata": {},
   "outputs": [
    {
     "data": {
      "text/plain": [
       "['a', 1, 'b', 2, 'c', 100]"
      ]
     },
     "execution_count": 41,
     "metadata": {},
     "output_type": "execute_result"
    }
   ],
   "source": [
    "concat([\"a\", \"b\", \"c\"], [1, 2, 100])"
   ]
  },
  {
   "cell_type": "markdown",
   "id": "ade7dacd",
   "metadata": {},
   "source": [
    "# Fibonacci"
   ]
  },
  {
   "cell_type": "code",
   "execution_count": 57,
   "id": "6d5f59f7",
   "metadata": {},
   "outputs": [],
   "source": [
    "def fibo(num):\n",
    "    left = 1\n",
    "    right = 1\n",
    "    new = [left, right]\n",
    "    if num < 1:\n",
    "        return \"Wrong input\"\n",
    "    if num <= 2:\n",
    "        return new[num - 1]\n",
    "    while num - 2 > 0:\n",
    "        temp = left + right\n",
    "        left = right\n",
    "        right = temp\n",
    "        new.append (temp)\n",
    "        num -= 1\n",
    "    return new"
   ]
  },
  {
   "cell_type": "code",
   "execution_count": 59,
   "id": "6c80a9b8",
   "metadata": {},
   "outputs": [
    {
     "data": {
      "text/plain": [
       "1"
      ]
     },
     "execution_count": 59,
     "metadata": {},
     "output_type": "execute_result"
    }
   ],
   "source": [
    "fibo(2)"
   ]
  },
  {
   "cell_type": "markdown",
   "id": "d4b2c005",
   "metadata": {},
   "source": [
    "# leap year"
   ]
  },
  {
   "cell_type": "code",
   "execution_count": 50,
   "id": "9b461c73",
   "metadata": {},
   "outputs": [],
   "source": [
    "def leap(year):\n",
    "    if (year % 4 == 0 and year % 100 != 0) or (year % 400 == 0):\n",
    "        return (year, \"is a leap year\")\n",
    "    else:\n",
    "        return (year, \"is not a leap year\")\n"
   ]
  },
  {
   "cell_type": "code",
   "execution_count": 52,
   "id": "0c77dd69",
   "metadata": {},
   "outputs": [
    {
     "data": {
      "text/plain": [
       "(2004, 'is a leap year')"
      ]
     },
     "execution_count": 52,
     "metadata": {},
     "output_type": "execute_result"
    }
   ],
   "source": [
    "leap(2004)"
   ]
  },
  {
   "cell_type": "code",
   "execution_count": null,
   "id": "8e5909a4",
   "metadata": {},
   "outputs": [],
   "source": []
  },
  {
   "cell_type": "code",
   "execution_count": null,
   "id": "b6c0bbb8",
   "metadata": {},
   "outputs": [],
   "source": []
  },
  {
   "cell_type": "code",
   "execution_count": null,
   "id": "d69bf8a5",
   "metadata": {},
   "outputs": [],
   "source": []
  }
 ],
 "metadata": {
  "kernelspec": {
   "display_name": "Python 3 (ipykernel)",
   "language": "python",
   "name": "python3"
  },
  "language_info": {
   "codemirror_mode": {
    "name": "ipython",
    "version": 3
   },
   "file_extension": ".py",
   "mimetype": "text/x-python",
   "name": "python",
   "nbconvert_exporter": "python",
   "pygments_lexer": "ipython3",
   "version": "3.8.3"
  }
 },
 "nbformat": 4,
 "nbformat_minor": 5
}
